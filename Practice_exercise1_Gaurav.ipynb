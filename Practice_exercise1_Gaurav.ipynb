{
 "cells": [
  {
   "cell_type": "code",
   "execution_count": 2,
   "id": "75ebc1ed",
   "metadata": {},
   "outputs": [
    {
     "name": "stdout",
     "output_type": "stream",
     "text": [
      "0.625\n",
      "17\n"
     ]
    }
   ],
   "source": [
    "#Example do not modify\n",
    "print(5/8)\n",
    "\n",
    "#Print the sum of 7 and 10\n",
    "#Addition\n",
    "print(7+10)"
   ]
  },
  {
   "cell_type": "code",
   "execution_count": 3,
   "id": "e7dcd31c",
   "metadata": {},
   "outputs": [
    {
     "name": "stdout",
     "output_type": "stream",
     "text": [
      "10\n",
      "0\n",
      "15\n",
      "5.0\n",
      "4\n",
      "16\n"
     ]
    }
   ],
   "source": [
    "#Addition and subtraction\n",
    "print(5+5)\n",
    "print(5-5)\n",
    "\n",
    "#Multiplication, Division, \n",
    "print(3*5)\n",
    "print(10/2)\n",
    "print(18%7)\n",
    "print(4**2)"
   ]
  },
  {
   "cell_type": "code",
   "execution_count": 24,
   "id": "3cb92434",
   "metadata": {},
   "outputs": [
    {
     "name": "stdout",
     "output_type": "stream",
     "text": [
      "1750.0000000000002\n",
      "6750.0\n"
     ]
    }
   ],
   "source": [
    "#Given values\n",
    "p=5000\n",
    "t=5\n",
    "r=0.07\n",
    "\n",
    "#Simple interest\n",
    "SI=p*r*t\n",
    "print(SI)\n",
    "\n",
    "#Total value\n",
    "TV=p+SI\n",
    "print(TV)"
   ]
  },
  {
   "cell_type": "code",
   "execution_count": 23,
   "id": "e3e7a00c",
   "metadata": {},
   "outputs": [
    {
     "name": "stdout",
     "output_type": "stream",
     "text": [
      "7.0\n"
     ]
    }
   ],
   "source": [
    "#given values\n",
    "p=8000\n",
    "r=0.087\n",
    "i=4872\n",
    "\n",
    "#Time duration\n",
    "t=i/(p*r)\n",
    "print(t)"
   ]
  },
  {
   "cell_type": "code",
   "execution_count": 27,
   "id": "492264eb",
   "metadata": {},
   "outputs": [
    {
     "name": "stdout",
     "output_type": "stream",
     "text": [
      "6.4\n"
     ]
    }
   ],
   "source": [
    "#Given values\n",
    "i=768\n",
    "p=3000\n",
    "t=4\n",
    "\n",
    "#Rate of interest\n",
    "r=i/(p*t)\n",
    "print(r*100)"
   ]
  },
  {
   "cell_type": "code",
   "execution_count": 29,
   "id": "d2bf4d01",
   "metadata": {},
   "outputs": [
    {
     "name": "stdout",
     "output_type": "stream",
     "text": [
      "194.87171000000012\n"
     ]
    }
   ],
   "source": [
    "print(100*(1+0.1)**7)"
   ]
  },
  {
   "cell_type": "code",
   "execution_count": null,
   "id": "f3d6e1c4",
   "metadata": {},
   "outputs": [],
   "source": []
  }
 ],
 "metadata": {
  "kernelspec": {
   "display_name": "Python 3",
   "language": "python",
   "name": "python3"
  },
  "language_info": {
   "codemirror_mode": {
    "name": "ipython",
    "version": 3
   },
   "file_extension": ".py",
   "mimetype": "text/x-python",
   "name": "python",
   "nbconvert_exporter": "python",
   "pygments_lexer": "ipython3",
   "version": "3.8.8"
  }
 },
 "nbformat": 4,
 "nbformat_minor": 5
}
