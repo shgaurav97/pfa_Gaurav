{
 "cells": [
  {
   "cell_type": "code",
   "execution_count": 1,
   "id": "b8c328d1",
   "metadata": {},
   "outputs": [
    {
     "name": "stdout",
     "output_type": "stream",
     "text": [
      "Enter a number: 15\n",
      "This is an odd number.\n"
     ]
    }
   ],
   "source": [
    "#Find whether a number is even or odd\n",
    "num = int(input(\"Enter a number: \"))\n",
    "mod = num % 2\n",
    "if mod > 0:\n",
    "    print(\"This is an odd number.\")\n",
    "else:\n",
    "    print(\"This is an even number.\")"
   ]
  },
  {
   "cell_type": "code",
   "execution_count": 4,
   "id": "0da8279d",
   "metadata": {},
   "outputs": [
    {
     "name": "stdout",
     "output_type": "stream",
     "text": [
      "Enter the temperature:30\n",
      "86.0\n"
     ]
    }
   ],
   "source": [
    "#Convert temperature in degree centigrade to Fahrenheit\n",
    "\n",
    "# calculate fahrenheit\n",
    "num = float(input(\"Enter the temperature:\"))\n",
    "fahrenheit = (num * 1.8) + 32\n",
    "print(fahrenheit)\n"
   ]
  },
  {
   "cell_type": "code",
   "execution_count": 17,
   "id": "f3018cf9",
   "metadata": {},
   "outputs": [
    {
     "name": "stdout",
     "output_type": "stream",
     "text": [
      "6.5\n",
      "5.332682251925386\n"
     ]
    }
   ],
   "source": [
    "#Find the area of triangle\n",
    "#Define sides\n",
    "a=4\n",
    "b=3\n",
    "c=6\n",
    "\n",
    "#Find Semiperimeter\n",
    "s=(a+b+c)/2\n",
    "print(s)\n",
    "\n",
    "#Area\n",
    "import math\n",
    "Area=math.sqrt(s*(s-a)*(s-b)*(s-c))\n",
    "print(Area)\n"
   ]
  },
  {
   "cell_type": "code",
   "execution_count": 21,
   "id": "e31f92a7",
   "metadata": {},
   "outputs": [
    {
     "name": "stdout",
     "output_type": "stream",
     "text": [
      "pi is 3.141592653589793\n",
      "18.84955592153876\n"
     ]
    }
   ],
   "source": [
    "#Define values\n",
    "r=3\n",
    "\n",
    "#Circumference\n",
    "import math\n",
    "print('pi is', math.pi)\n",
    "Circumference=2*math.pi*r\n",
    "print(Circumference)\n"
   ]
  },
  {
   "cell_type": "code",
   "execution_count": 29,
   "id": "611c116d",
   "metadata": {},
   "outputs": [
    {
     "name": "stdout",
     "output_type": "stream",
     "text": [
      "Please enter any positive integer10\n",
      "Given number 10 is divisible by 5\n"
     ]
    }
   ],
   "source": [
    "#Program to check whether number is divisible by 5\n",
    "num=int(input(\"Please enter any positive integer\"))\n",
    "if (num%5==0):\n",
    "    print(\"Given number {0} is divisible by 5\".format(num))\n",
    "else :\n",
    "    print(\"Given number {0} is not divisible by 5\".format(num))"
   ]
  },
  {
   "cell_type": "code",
   "execution_count": null,
   "id": "5d165590",
   "metadata": {},
   "outputs": [],
   "source": []
  }
 ],
 "metadata": {
  "kernelspec": {
   "display_name": "Python 3",
   "language": "python",
   "name": "python3"
  },
  "language_info": {
   "codemirror_mode": {
    "name": "ipython",
    "version": 3
   },
   "file_extension": ".py",
   "mimetype": "text/x-python",
   "name": "python",
   "nbconvert_exporter": "python",
   "pygments_lexer": "ipython3",
   "version": "3.8.8"
  }
 },
 "nbformat": 4,
 "nbformat_minor": 5
}
