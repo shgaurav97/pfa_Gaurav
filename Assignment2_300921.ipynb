{
 "cells": [
  {
   "cell_type": "code",
   "execution_count": 6,
   "id": "623988d9",
   "metadata": {},
   "outputs": [
    {
     "name": "stdout",
     "output_type": "stream",
     "text": [
      "[24, 35, 9, 56, 12]\n"
     ]
    }
   ],
   "source": [
    "list=[]\n",
    "list.append(12)\n",
    "list.append(35)\n",
    "list.append(9)\n",
    "list.append(56)\n",
    "list.append(24)\n",
    "list[0]=24\n",
    "list[4]=12\n",
    "print(list)\n"
   ]
  },
  {
   "cell_type": "code",
   "execution_count": 7,
   "id": "a06b8719",
   "metadata": {},
   "outputs": [
    {
     "name": "stdout",
     "output_type": "stream",
     "text": [
      "[3, 2, 1]\n"
     ]
    }
   ],
   "source": [
    "list=[]\n",
    "list.append(1)\n",
    "list.append(2)\n",
    "list.append(3)\n",
    "list[0]=3\n",
    "list[2]=1\n",
    "print(list)"
   ]
  },
  {
   "cell_type": "code",
   "execution_count": 8,
   "id": "d21612c6",
   "metadata": {},
   "outputs": [
    {
     "data": {
      "text/plain": [
       "5"
      ]
     },
     "execution_count": 8,
     "metadata": {},
     "output_type": "execute_result"
    }
   ],
   "source": [
    "list=[1, 4, 5, 7, 8]\n",
    "len(list)"
   ]
  },
  {
   "cell_type": "code",
   "execution_count": 12,
   "id": "5601817e",
   "metadata": {},
   "outputs": [
    {
     "name": "stdout",
     "output_type": "stream",
     "text": [
      "The length of the list is:  4\n"
     ]
    }
   ],
   "source": [
    "list=[]\n",
    "list.append(\"Geeks\")\n",
    "list.append(\"Are\")\n",
    "list.append(\"For\")\n",
    "list.append(\"Geeks\")\n",
    "aft=len(list)\n",
    "print(\"The length of the list is: \", aft)\n"
   ]
  },
  {
   "cell_type": "code",
   "execution_count": 20,
   "id": "61f6d7f0",
   "metadata": {},
   "outputs": [
    {
     "name": "stdout",
     "output_type": "stream",
     "text": [
      "4 2\n"
     ]
    }
   ],
   "source": [
    "a=2\n",
    "b=4\n",
    "print(max(a, b), min(a, b))\n"
   ]
  },
  {
   "cell_type": "code",
   "execution_count": 21,
   "id": "b09d3eee",
   "metadata": {},
   "outputs": [
    {
     "name": "stdout",
     "output_type": "stream",
     "text": [
      "-1 -4\n"
     ]
    }
   ],
   "source": [
    "c=-1\n",
    "d=-4\n",
    "print(max(c, d), min(c, d))"
   ]
  },
  {
   "cell_type": "code",
   "execution_count": null,
   "id": "a2b4573c",
   "metadata": {},
   "outputs": [],
   "source": []
  }
 ],
 "metadata": {
  "kernelspec": {
   "display_name": "Python 3",
   "language": "python",
   "name": "python3"
  },
  "language_info": {
   "codemirror_mode": {
    "name": "ipython",
    "version": 3
   },
   "file_extension": ".py",
   "mimetype": "text/x-python",
   "name": "python",
   "nbconvert_exporter": "python",
   "pygments_lexer": "ipython3",
   "version": "3.8.8"
  }
 },
 "nbformat": 4,
 "nbformat_minor": 5
}
