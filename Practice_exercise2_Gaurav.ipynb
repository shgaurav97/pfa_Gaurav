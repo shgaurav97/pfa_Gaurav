{
 "cells": [
  {
   "cell_type": "code",
   "execution_count": 20,
   "id": "08d38839",
   "metadata": {},
   "outputs": [
    {
     "name": "stdout",
     "output_type": "stream",
     "text": [
      "100\n",
      "194.87171000000012\n",
      "<class 'int'>\n",
      "<class 'float'>\n",
      "<class 'float'>\n",
      "<class 'str'>\n",
      "<class 'float'>\n",
      "<class 'str'>\n",
      "<class 'bool'>\n",
      "110.00000000000001\n",
      "<class 'float'>\n",
      "Compound InterestCompound Interest\n",
      "I have started with $100and now have $194.87171000000012.Awesome\n",
      "3.1415926\n",
      "6.2831852\n",
      "I can add integers, like5to strings\n",
      "I saidHeyHeyHey!\n",
      "1\n"
     ]
    },
    {
     "ename": "TypeError",
     "evalue": "can only concatenate str (not \"int\") to str",
     "output_type": "error",
     "traceback": [
      "\u001b[1;31m---------------------------------------------------------------------------\u001b[0m",
      "\u001b[1;31mTypeError\u001b[0m                                 Traceback (most recent call last)",
      "\u001b[1;32m<ipython-input-20-9f9435eab148>\u001b[0m in \u001b[0;36m<module>\u001b[1;34m\u001b[0m\n\u001b[0;32m     64\u001b[0m \u001b[0mprint\u001b[0m\u001b[1;33m(\u001b[0m\u001b[1;34m\"I said\"\u001b[0m\u001b[1;33m+\u001b[0m\u001b[1;33m(\u001b[0m\u001b[1;34m\"Hey\"\u001b[0m\u001b[1;33m*\u001b[0m\u001b[1;36m2\u001b[0m\u001b[1;33m)\u001b[0m\u001b[1;33m+\u001b[0m\u001b[1;34m\"Hey!\"\u001b[0m\u001b[1;33m)\u001b[0m\u001b[1;33m\u001b[0m\u001b[1;33m\u001b[0m\u001b[0m\n\u001b[0;32m     65\u001b[0m \u001b[0mprint\u001b[0m\u001b[1;33m(\u001b[0m\u001b[1;32mTrue\u001b[0m\u001b[1;33m+\u001b[0m\u001b[1;32mFalse\u001b[0m\u001b[1;33m)\u001b[0m\u001b[1;33m\u001b[0m\u001b[1;33m\u001b[0m\u001b[0m\n\u001b[1;32m---> 66\u001b[1;33m \u001b[0mprint\u001b[0m\u001b[1;33m(\u001b[0m\u001b[1;34m\"The correct answer to this multiple choice exercise is answer number\"\u001b[0m\u001b[1;33m+\u001b[0m\u001b[1;36m2\u001b[0m\u001b[1;33m)\u001b[0m\u001b[1;33m\u001b[0m\u001b[1;33m\u001b[0m\u001b[0m\n\u001b[0m",
      "\u001b[1;31mTypeError\u001b[0m: can only concatenate str (not \"int\") to str"
     ]
    }
   ],
   "source": [
    "#Create a variable savings\n",
    "savings=100\n",
    "print(savings)\n",
    "\n",
    "#Create a variable growth_multiplier\n",
    "growth_multiplier=1.1\n",
    "\n",
    "#Calculate result\n",
    "result=savings*growth_multiplier**7\n",
    "\n",
    "#Print out result\n",
    "print(result)\n",
    "\n",
    "#Create a variable desc\n",
    "desc=\"Compound Interest\"\n",
    "\n",
    "#Create a variable profitable\n",
    "profitable=True\n",
    "\n",
    "#Assigning variables\n",
    "A=10.7\n",
    "B=\"This is python course\"\n",
    "C=False\n",
    "\n",
    "#Defining types\n",
    "print(type(savings))\n",
    "print(type(growth_multiplier))\n",
    "print(type(result))\n",
    "print(type(desc))\n",
    "print(type(A))\n",
    "print(type(B))\n",
    "print(type(C))\n",
    "\n",
    "#Assign product of growth_multiplier and savings to year1\n",
    "Year1=growth_multiplier*savings\n",
    "print(Year1)\n",
    "\n",
    "#Defining type of Year1\n",
    "print(type(Year1))\n",
    "\n",
    "#Assign the sum of desc and desc to doubledesc\n",
    "doubledesc=desc+desc\n",
    "print(doubledesc)\n",
    "#Yes, i am expecting this because if we add strings it will add the another string to the previous one\n",
    "\n",
    "#Assume the savings and result\n",
    "savings=100\n",
    "result=100*1.10**7\n",
    "print(\"I have started with $\"+str(savings)+\"and now have $\"+str(result)+\".Awesome\")\n",
    "\n",
    "#Definition of pi_string\n",
    "pi_string=\"3.1415926\"\n",
    "\n",
    "#Convert pi_string into float pi_float\n",
    "pi_float=float(pi_string)\n",
    "print(pi_float)\n",
    "\n",
    "#Multiply by 2 and save as double_pi\n",
    "double_pi=pi_float*2\n",
    "print(double_pi)\n",
    "\n",
    "#One of these will throw an error\n",
    "print(\"I can add integers, like\"+str(5)+\"to strings\")\n",
    "print(\"I said\"+(\"Hey\"*2)+\"Hey!\")\n",
    "print(True+False)\n",
    "print(\"The correct answer to this multiple choice exercise is answer number\"+2)"
   ]
  },
  {
   "cell_type": "code",
   "execution_count": 5,
   "id": "447f3343",
   "metadata": {},
   "outputs": [],
   "source": []
  },
  {
   "cell_type": "code",
   "execution_count": null,
   "id": "dd3228ee",
   "metadata": {},
   "outputs": [],
   "source": []
  }
 ],
 "metadata": {
  "kernelspec": {
   "display_name": "Python 3",
   "language": "python",
   "name": "python3"
  },
  "language_info": {
   "codemirror_mode": {
    "name": "ipython",
    "version": 3
   },
   "file_extension": ".py",
   "mimetype": "text/x-python",
   "name": "python",
   "nbconvert_exporter": "python",
   "pygments_lexer": "ipython3",
   "version": "3.8.8"
  }
 },
 "nbformat": 4,
 "nbformat_minor": 5
}
